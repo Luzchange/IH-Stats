{
  "nbformat": 4,
  "nbformat_minor": 0,
  "metadata": {
    "colab": {
      "provenance": [],
      "authorship_tag": "ABX9TyM9ATjsFpNYS8LX+p3umV+b",
      "include_colab_link": true
    },
    "kernelspec": {
      "name": "python3",
      "display_name": "Python 3"
    },
    "language_info": {
      "name": "python"
    }
  },
  "cells": [
    {
      "cell_type": "markdown",
      "metadata": {
        "id": "view-in-github",
        "colab_type": "text"
      },
      "source": [
        "<a href=\"https://colab.research.google.com/github/Luzchange/IH-Stats/blob/main/IHMOD_2_0_xlsm.ipynb\" target=\"_parent\"><img src=\"https://colab.research.google.com/assets/colab-badge.svg\" alt=\"Open In Colab\"/></a>"
      ]
    },
    {
      "cell_type": "code",
      "execution_count": null,
      "metadata": {
        "colab": {
          "base_uri": "https://localhost:8080/",
          "height": 111
        },
        "id": "l4Z9LFiNzEd3",
        "outputId": "6b829798-4689-4251-8f33-ae2aefba9524"
      },
      "outputs": [
        {
          "output_type": "error",
          "ename": "SyntaxError",
          "evalue": "invalid syntax (<ipython-input-2-234f485d4551>, line 2)",
          "traceback": [
            "\u001b[0;36m  File \u001b[0;32m\"<ipython-input-2-234f485d4551>\"\u001b[0;36m, line \u001b[0;32m2\u001b[0m\n\u001b[0;31m    pip install pandas openpyxl\u001b[0m\n\u001b[0m        ^\u001b[0m\n\u001b[0;31mSyntaxError\u001b[0m\u001b[0;31m:\u001b[0m invalid syntax\n"
          ]
        }
      ],
      "source": [
        "import pandas as pd\n",
        "\n",
        "\n",
        "import numpy as np\n",
        "from scipy import stats\n",
        "\n",
        "df = pd.read_excel('IHMOD_2_0.xlsm', sheet_name=None)\n",
        "\n",
        "def get_user_input(prompt, data_type=float):\n",
        "    while True:\n",
        "        try:\n",
        "            return data_type(input(prompt))\n",
        "        except ValueError:\n",
        "            print(\"Invalid input. Please try again.\")\n",
        "\n",
        "# Example usage\n",
        "initial_value = get_user_input(\"Enter initial value: \")\n",
        "\n",
        "def bayesian_update(prior, likelihood, data):\n",
        "    posterior = stats.beta(prior.args[0] + data.sum(),\n",
        "                           prior.args[1] + len(data) - data.sum())\n",
        "    return posterior\n",
        "\n",
        "# Example usage\n",
        "prior = stats.beta(1, 1)  # Uniform prior\n",
        "data = np.array([1, 0, 1, 1, 0])  # Observed data\n",
        "posterior = bayesian_update(prior, None, data)\n",
        "\n",
        "def calculate_model_output(input_params, data):\n",
        "    # Implement your model's core logic here\n",
        "    # Use input_params and data to compute results\n",
        "    return results\n",
        "\n",
        "# Example usage\n",
        "input_params = {\n",
        "    'param1': get_user_input(\"Enter parameter 1: \"),\n",
        "    'param2': get_user_input(\"Enter parameter 2: \")\n",
        "}\n",
        "results = calculate_model_output(input_params, df['Data'])\n",
        "\n",
        "def main():\n",
        "    # Load data\n",
        "    data = pd.read_excel('IHMOD_2_0.xlsm', sheet_name=None)\n",
        "\n",
        "    # Get user inputs\n",
        "    input_params = {}\n",
        "    for param in ['param1', 'param2', 'param3']:\n",
        "        input_params[param] = get_user_input(f\"Enter {param}: \")\n",
        "\n",
        "    # Perform Bayesian analysis\n",
        "    prior = stats.beta(1, 1)\n",
        "    observed_data = np.array([1, 0, 1, 1, 0])  # Replace with actual data\n",
        "    posterior = bayesian_update(prior, None, observed_data)\n",
        "\n",
        "    # Run the model\n",
        "    results = calculate_model_output(input_params, data, posterior)\n",
        "\n",
        "    # Display results\n",
        "    print(\"Model Results:\")\n",
        "    print(results)\n",
        "\n",
        "if __name__ == \"__main__\":\n",
        "    main()\n",
        "\n",
        "\n"
      ]
    }
  ]
}